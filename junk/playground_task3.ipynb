{
 "cells": [
  {
   "cell_type": "code",
   "execution_count": 173,
   "metadata": {},
   "outputs": [],
   "source": [
    "import enum\n",
    "import requests\n",
    "import numpy as np\n",
    "import time\n",
    "\n",
    "%matplotlib inline\n",
    "import matplotlib.pyplot as plt\n",
    "\n",
    "from typing import Dict, Tuple, List, Optional\n",
    "from dataclasses import dataclass"
   ]
  },
  {
   "cell_type": "code",
   "execution_count": 174,
   "metadata": {},
   "outputs": [],
   "source": [
    "API_TOKEN = \"73b5db4b-735a-473c-9378-83fbcf97b167cd82fd17-a895-488a-8cfb-e3c4a321c1b1\""
   ]
  },
  {
   "cell_type": "code",
   "execution_count": 175,
   "metadata": {},
   "outputs": [],
   "source": [
    "@dataclass\n",
    "class SensorsReading:\n",
    "    front_distance: float\n",
    "    right_side_distance: float\n",
    "    left_side_distance: float\n",
    "    back_distance: float\n",
    "    left_45_distance: float\n",
    "    right_45_distance: float\n",
    "    rotation_pitch: float\n",
    "    rotation_yaw: float\n",
    "    rotation_roll: float\n",
    "    down_x_offset: float\n",
    "    down_y_offset: float\n",
    "\n",
    "\n",
    "class RoboController:\n",
    "\n",
    "    _BASE_URL = \"http://localhost:8801/api/v1/robot-cells\"\n",
    "\n",
    "    def __init__(self, api_token: str, delay: float = 0.02) -> None:\n",
    "        self._token = api_token\n",
    "        self._delay = delay\n",
    "\n",
    "    def command_pwm(self, pwm_l: int, time_l: int,\n",
    "                    pwm_r: int, time_r: int):\n",
    "        url = f\"http://127.0.0.1:8801/api/v1/robot-motors/move?l={pwm_l}&l_time={time_l}&r={pwm_r}&r_time={time_r}\"\n",
    "        response = requests.post(url)\n",
    "        if response.status_code != 200:\n",
    "            raise RuntimeError(f\"Received status code {response.status_code}\")\n",
    "    \n",
    "    def read_sensors(self) -> SensorsReading:\n",
    "        url = f\"{RoboController._BASE_URL}/sensor-data?token={self._token}\"\n",
    "        response = requests.get(url)\n",
    "        if response.status_code != 200:\n",
    "            raise RuntimeError(f\"Received status code {response.status_code}\")\n",
    "        return SensorsReading(**response.json())\n",
    "\n",
    "\n",
    "    def _movement_request(self, direction: str) -> bool:\n",
    "        url = f\"{RoboController._BASE_URL}/{direction}?token={self._token}\"\n",
    "        response = requests.post(url)\n",
    "        if response.status_code != 200:\n",
    "            raise RuntimeError(f\"Received status code {response.status_code}\")\n",
    "        time.sleep(self._delay)\n",
    "        return True"
   ]
  },
  {
   "cell_type": "code",
   "execution_count": 176,
   "metadata": {},
   "outputs": [],
   "source": [
    "controller = RoboController(API_TOKEN)"
   ]
  },
  {
   "cell_type": "code",
   "execution_count": 122,
   "metadata": {},
   "outputs": [],
   "source": [
    "dataset = [] # pwm_r, pwm_l, time_r, time_l, x_init, y_init, yaw_init, x_new, y_new, yaw_new"
   ]
  },
  {
   "cell_type": "code",
   "execution_count": 135,
   "metadata": {},
   "outputs": [],
   "source": [
    "reading = controller.read_sensors()\n",
    "pwm_r = -150\n",
    "pwm_l = -250\n",
    "time_l = 0.2\n",
    "time_r = 0.2\n",
    "x_init = reading.down_x_offset\n",
    "y_init = reading.down_y_offset\n",
    "yaw_init = reading.rotation_yaw\n",
    "\n",
    "controller.command_pwm(pwm_l=pwm_l,\n",
    "                       time_l=time_l,\n",
    "                       pwm_r=pwm_r,\n",
    "                       time_r=time_r)\n",
    "time.sleep(3)\n",
    "\n",
    "reading = controller.read_sensors()\n",
    "\n",
    "x_new = reading.down_x_offset\n",
    "y_new = reading.down_y_offset\n",
    "yaw_new = reading.rotation_yaw\n",
    "\n",
    "dataset.append([pwm_r, pwm_l, time_r, time_l, x_init, y_init, yaw_init, x_new, y_new, yaw_new])"
   ]
  },
  {
   "cell_type": "code",
   "execution_count": 138,
   "metadata": {},
   "outputs": [
    {
     "data": {
      "text/plain": [
       "[[255, 255, 0.2, 0.2, -1163.32, -1254.07, -0.0, -1083.45, -1254.06, -0.01],\n",
       " [200, 200, 0.2, 0.2, -1083.46, -1254.06, -0.01, -1044.32, -1254.06, 0.03],\n",
       " [180, 180, 0.2, 0.2, -1044.32, -1254.06, 0.03, -1016.07, -1254.05, 0.06],\n",
       " [225, 225, 0.2, 0.2, -1016.07, -1254.05, 0.06, -959.72, -1253.98, 0.07],\n",
       " [240, 240, 0.2, 0.2, -959.73, -1253.98, 0.07, -892.34, -1253.9, 0.08],\n",
       " [221, 221, 0.2, 0.2, -892.35, -1253.9, 0.08, -838.94, -1253.82, 0.09],\n",
       " [-255, -255, 0.2, 0.2, -838.94, -1253.82, 0.09, -919.38, -1253.92, 0.09],\n",
       " [-220, -220, 0.2, 0.2, -919.37, -1253.92, 0.09, -972.43, -1254.0, 0.07],\n",
       " [-245, -245, 0.2, 0.2, -972.43, -1254.0, 0.07, -1044.21, -1254.08, 0.04],\n",
       " [-175, -175, 0.2, 0.2, -1044.2, -1254.08, 0.04, -1070.17, -1254.1, 0.01],\n",
       " [-140, -140, 0.2, 0.2, -1070.17, -1254.1, 0.01, -1082.13, -1254.1, -0.01]]"
      ]
     },
     "execution_count": 138,
     "metadata": {},
     "output_type": "execute_result"
    }
   ],
   "source": [
    "dataset"
   ]
  },
  {
   "cell_type": "code",
   "execution_count": 115,
   "metadata": {},
   "outputs": [
    {
     "data": {
      "text/plain": [
       "8"
      ]
     },
     "execution_count": 115,
     "metadata": {},
     "output_type": "execute_result"
    }
   ],
   "source": [
    "len(dataset)"
   ]
  },
  {
   "cell_type": "code",
   "execution_count": 139,
   "metadata": {},
   "outputs": [],
   "source": [
    "df = pd.DataFrame(dataset, columns=[\"pwm_r\", \"pwm_l\", \"time_r\", \"time_l\", \"x_init\", \"y_init\", \"yaw_init\", \"x_new\", \"y_new\", \"yaw_new\"])\n",
    "df.to_csv(\"pwm_dataset_linear.csv\", index=False)"
   ]
  },
  {
   "cell_type": "code",
   "execution_count": null,
   "metadata": {},
   "outputs": [],
   "source": []
  },
  {
   "cell_type": "code",
   "execution_count": 140,
   "metadata": {},
   "outputs": [],
   "source": [
    "df = pd.read_csv(\"pwm_dataset_linear.csv\")"
   ]
  },
  {
   "cell_type": "code",
   "execution_count": 213,
   "metadata": {},
   "outputs": [],
   "source": [
    "pwms, vels = [], []\n",
    "for i in range(len(df)):\n",
    "    linear_vel = [df[\"x_new\"][i] - df[\"x_init\"][i],\n",
    "                  df[\"y_new\"][i] - df[\"y_init\"][i]]\n",
    "    linear_vel = np.array(linear_vel) / df[\"time_r\"][i]\n",
    "    pwm = df[\"pwm_r\"][i]\n",
    "    vels.append(linear_vel)\n",
    "    pwms.append(pwm)\n",
    "pwms = np.array(pwms, dtype=float)\n",
    "vels = np.array(vels)\n",
    "\n",
    "vels = vels[np.argsort(pwms)]\n",
    "pwms = np.sort(pwms)\n",
    "vels = vels[:, 0]"
   ]
  },
  {
   "cell_type": "code",
   "execution_count": 214,
   "metadata": {},
   "outputs": [
    {
     "data": {
      "text/plain": [
       "array([-255., -245., -220., -175., -140.,  180.,  200.,  221.,  225.,\n",
       "        240.,  255.])"
      ]
     },
     "execution_count": 214,
     "metadata": {},
     "output_type": "execute_result"
    }
   ],
   "source": [
    "pwms"
   ]
  },
  {
   "cell_type": "code",
   "execution_count": 215,
   "metadata": {},
   "outputs": [
    {
     "data": {
      "image/png": "[encoded data removed]",
      "text/plain": [
       "<Figure size 640x480 with 1 Axes>"
      ]
     },
     "metadata": {},
     "output_type": "display_data"
    }
   ],
   "source": [
    "plt.plot(vels, pwms)\n",
    "plt.xlabel(\"X vel, mm /s\")\n",
    "plt.ylabel(\"PWM, int\")\n",
    "plt.show()"
   ]
  },
  {
   "cell_type": "code",
   "execution_count": 216,
   "metadata": {},
   "outputs": [
    {
     "name": "stdout",
     "output_type": "stream",
     "text": [
      "[-4.21212426e-16  5.28674735e-14  1.58051392e-10 -1.61960662e-08\n",
      " -2.08418413e-05  1.47084272e-03  1.65146419e+00 -3.64546663e+01]\n"
     ]
    }
   ],
   "source": [
    "coefs = np.polyfit(vels, pwms, 7)\n",
    "print(coefs)"
   ]
  },
  {
   "cell_type": "code",
   "execution_count": 217,
   "metadata": {},
   "outputs": [],
   "source": [
    "def apply_polynomial(x: np.ndarray, coefs: np.ndarray):\n",
    "    result = coefs[-1]\n",
    "    degree = coefs.shape[0] - 1\n",
    "    for i in range(degree):\n",
    "        result = result + coefs[i] * (x ** (degree - i))\n",
    "    return result"
   ]
  },
  {
   "cell_type": "code",
   "execution_count": 218,
   "metadata": {},
   "outputs": [
    {
     "data": {
      "image/png": "[encoded data removed]",
      "text/plain": [
       "<Figure size 640x480 with 1 Axes>"
      ]
     },
     "metadata": {},
     "output_type": "display_data"
    }
   ],
   "source": [
    "plt.plot(vels, pwms, label=\"GT\")\n",
    "predicted = apply_polynomial(vels, coefs)\n",
    "plt.plot(pwms, predicted, label=\"Pred\")\n",
    "plt.xlabel(\"PWM, int\")\n",
    "plt.ylabel(\"X vel, mm /s\")\n",
    "plt.legend()\n",
    "plt.show()"
   ]
  },
  {
   "cell_type": "code",
   "execution_count": 228,
   "metadata": {},
   "outputs": [],
   "source": [
    "maze_coords = np.load(\"maze_coords.npy\")"
   ]
  },
  {
   "cell_type": "code",
   "execution_count": 229,
   "metadata": {},
   "outputs": [
    {
     "data": {
      "text/plain": [
       "array([ 1253.94, -1254.48])"
      ]
     },
     "execution_count": 229,
     "metadata": {},
     "output_type": "execute_result"
    }
   ],
   "source": [
    "maze_coords[0, 0]"
   ]
  },
  {
   "cell_type": "code",
   "execution_count": 238,
   "metadata": {},
   "outputs": [
    {
     "name": "stdout",
     "output_type": "stream",
     "text": [
      "122\n"
     ]
    }
   ],
   "source": [
    "dt = 0.2\n",
    "vel = 100.\n",
    "\n",
    "pwm = int(apply_polynomial(vel, coefs))\n",
    "print(pwm)\n"
   ]
  },
  {
   "cell_type": "code",
   "execution_count": 247,
   "metadata": {},
   "outputs": [],
   "source": [
    "class PID:\n",
    "    def __init__(self, Kp, Ki, Kd, setpoint=0, output_limits=(None, None)):\n",
    "        self.Kp = Kp\n",
    "        self.Ki = Ki\n",
    "        self.Kd = Kd\n",
    "        self.setpoint = setpoint\n",
    "        self.output_limits = output_limits\n",
    "        \n",
    "        self._integral = 0\n",
    "        self._previous_error = None\n",
    "\n",
    "    def update(self, measured_value, dt):\n",
    "        error = self.setpoint - measured_value\n",
    "        self._integral += error * dt\n",
    "        derivative = 0 if self._previous_error is None else (error - self._previous_error) / dt\n",
    "\n",
    "        output = (self.Kp * error) + (self.Ki * self._integral) + (self.Kd * derivative)\n",
    "        self._previous_error = error\n",
    "\n",
    "        if self.output_limits[0] is not None:\n",
    "            output = max(self.output_limits[0], output)\n",
    "        if self.output_limits[1] is not None:\n",
    "            output = min(self.output_limits[1], output)\n",
    "        \n",
    "        return output"
   ]
  },
  {
   "cell_type": "code",
   "execution_count": 269,
   "metadata": {},
   "outputs": [],
   "source": [
    "Kp = 0.5\n",
    "Ki = 0.3\n",
    "Kd = 0.05\n",
    "setpoint = 0.\n",
    "\n",
    "pid = PID(Kp, Ki, Kd, setpoint, output_limits=(0, 255))"
   ]
  },
  {
   "cell_type": "code",
   "execution_count": 280,
   "metadata": {},
   "outputs": [
    {
     "name": "stdout",
     "output_type": "stream",
     "text": [
      "168\n",
      "164\n",
      "147\n",
      "124\n",
      "103\n",
      "86\n",
      "72\n",
      "61\n",
      "53\n",
      "47\n",
      "41\n",
      "Reached\n"
     ]
    }
   ],
   "source": [
    "Kp = 1.\n",
    "Ki = 0.1\n",
    "Kd = 1.\n",
    "setpoint = 0.\n",
    "\n",
    "pid = PID(Kp, Ki, Kd, setpoint, output_limits=(0, 255))\n",
    "\n",
    "controller = RoboController(API_TOKEN)\n",
    "\n",
    "dt = 0.1\n",
    "pwm = 100\n",
    "\n",
    "target_point = maze_coords[14, 0]\n",
    "\n",
    "while(True):\n",
    "    reading = controller.read_sensors()\n",
    "    coord = np.array([reading.down_x_offset, reading.down_y_offset])\n",
    "    error = -np.linalg.norm(coord - target_point)\n",
    "    if abs(error) < 100:\n",
    "        controller.command_pwm(pwm_l=0,\n",
    "                               time_l=dt,\n",
    "                               pwm_r=0,\n",
    "                               time_r=dt)\n",
    "        print(\"Reached\")\n",
    "        break\n",
    "    pwm = pid.update(error, dt)\n",
    "    pwm = int(pwm)\n",
    "    print(pwm)\n",
    "    controller.command_pwm(pwm_l=pwm,\n",
    "                    time_l=dt,\n",
    "                    pwm_r=pwm,\n",
    "                    time_r=dt)\n",
    "    time.sleep(dt)"
   ]
  },
  {
   "cell_type": "code",
   "execution_count": null,
   "metadata": {},
   "outputs": [],
   "source": [
    "p"
   ]
  }
 ],
 "metadata": {
  "kernelspec": {
   "display_name": "robohack_py39",
   "language": "python",
   "name": "python3"
  },
  "language_info": {
   "codemirror_mode": {
    "name": "ipython",
    "version": 3
   },
   "file_extension": ".py",
   "mimetype": "text/x-python",
   "name": "python",
   "nbconvert_exporter": "python",
   "pygments_lexer": "ipython3",
   "version": "3.9.20"
  }
 },
 "nbformat": 4,
 "nbformat_minor": 2
}
