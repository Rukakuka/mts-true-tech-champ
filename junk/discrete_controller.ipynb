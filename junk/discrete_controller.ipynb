{
 "cells": [
  {
   "cell_type": "code",
   "execution_count": null,
   "metadata": {},
   "outputs": [],
   "source": [
    "# gt\n",
    "#   \"down_x_offset\": -1079.2,\n",
    "#   \"down_y_offset\": -1254.1\n",
    "\n",
    "#   \"down_x_offset\": -912.54,\n",
    "#   \"down_y_offset\": -1254.1\n",
    "\n",
    "#   \"down_x_offset\": -745.87,\n",
    "#   \"down_y_offset\": -1254.1\n",
    "\n",
    "#   \"down_x_offset\": -579.21,\n",
    "#   \"down_y_offset\": -1254.1\n",
    "\n",
    "#   \"down_x_offset\": -412.54,\n",
    "#   \"down_y_offset\": -1254.1\n",
    "\n",
    "#   \"down_x_offset\": -245.88,\n",
    "#   \"down_y_offset\": -1254.1"
   ]
  },
  {
   "cell_type": "code",
   "execution_count": null,
   "metadata": {},
   "outputs": [],
   "source": [
    "# 0.5 0.3\n",
    "#   gt                              solution\n",
    "#   \"down_x_offset\": -1079.2,       \"down_x_offset\": -1086.25,\n",
    "#   \"down_y_offset\": -1254.1        \"down_y_offset\": -1254.01\n",
    "\n",
    "#   \"down_x_offset\": -912.54,       \"down_x_offset\": -1003.99,\n",
    "#   \"down_y_offset\": -1254.1        \"down_y_offset\": -1254.03\n",
    "\n",
    "#   \"down_x_offset\": -745.87,       \"down_x_offset\": -847.62,\n",
    "#   \"down_y_offset\": -1254.1        \"down_y_offset\": -1254.14\n",
    "\n",
    "#   \"down_x_offset\": -579.21,       \"down_x_offset\": -688,\n",
    "#   \"down_y_offset\": -1254.1        \"down_y_offset\": -1254.38\n",
    "\n",
    "#   \"down_x_offset\": -412.54,       \"down_x_offset\": -541.05,\n",
    "#   \"down_y_offset\": -1254.1        \"down_y_offset\": -1254.69\n",
    "\n",
    "#   \"down_x_offset\": -245.88,       \"down_x_offset\": -463.61,\n",
    "#   \"down_y_offset\": -1254.1        \"down_y_offset\": -1254.94"
   ]
  },
  {
   "cell_type": "code",
   "execution_count": null,
   "metadata": {},
   "outputs": [],
   "source": [
    "# 0.51 0.31\n",
    "#   gt                              solution\n",
    "#   \"down_x_offset\": -1079.2        \"down_x_offset\": -1078.46,       \n",
    "#   \"down_y_offset\": -1254.1        \"down_y_offset\": -1254     \n",
    "\n",
    "#   \"down_x_offset\": -912.54,       \n",
    "#   \"down_y_offset\": -1254.1        \n",
    "\n",
    "#   \"down_x_offset\": -745.87,       \n",
    "#   \"down_y_offset\": -1254.1        \n",
    "\n",
    "#   \"down_x_offset\": -579.21,       \n",
    "#   \"down_y_offset\": -1254.1        \n",
    "\n",
    "#   \"down_x_offset\": -412.54,       \n",
    "#   \"down_y_offset\": -1254.1        \n",
    "\n",
    "#   \"down_x_offset\": -245.88,       \n",
    "#   \"down_y_offset\": -1254.1       \n",
    "\n",
    "#   \"down_x_offset\": -746.54,  \"down_x_offset\": -746.54,\n",
    "#   \"down_y_offset\": -1254.12  \"down_y_offset\": -1254.12"
   ]
  },
  {
   "cell_type": "code",
   "execution_count": 15,
   "metadata": {},
   "outputs": [
    {
     "data": {
      "image/png": "[encoded data removed]",
      "text/plain": [
       "<Figure size 500x500 with 1 Axes>"
      ]
     },
     "metadata": {},
     "output_type": "display_data"
    },
    {
     "name": "stdout",
     "output_type": "stream",
     "text": [
      "[0.9935097813578827, 0.9089134353927828, 0.8799580000471909, 0.841875, 0.7624803622585714, 0.5303595694657147]\n",
      "4.8\n",
      "999.9899999999999\n",
      "782.2599999999999\n",
      "1.2783345690691075\n",
      "3.8350037072073224 2.3010022243243933\n"
     ]
    }
   ],
   "source": [
    "import cv2\n",
    "import numpy as np\n",
    "import matplotlib.pyplot as plt\n",
    "from queue import deque\n",
    "\n",
    "x = [1079.2, 912.54, 745.87, 579.21, 412.54, 245.88]\n",
    "y = [1086.25, 1003.99, 847.62, 688, 541.05, 463.61]\n",
    "\n",
    "plt.rcParams[\"figure.figsize\"] = (5,5)\n",
    "fig, ax = plt.subplots(1,1)\n",
    "ax.plot(x,y)\n",
    "plt.show()\n",
    "print([(xx/yy) for xx,yy in zip(x,y)])\n",
    "\n",
    "\n",
    "print(0.5*6+0.3*6)\n",
    "print(1245.87-245.88)\n",
    "print(1245.87-463.61)\n",
    "\n",
    "print((1245.87-245.88)/(1245.87-463.61))"
   ]
  },
  {
   "cell_type": "code",
   "execution_count": 69,
   "metadata": {},
   "outputs": [
    {
     "name": "stdout",
     "output_type": "stream",
     "text": [
      "[[255.        ]\n",
      " [250.58780209]]\n",
      "[[[255.        ]\n",
      "  [247.87905489]]]\n",
      "[[[253.46070264]\n",
      "  [246.38274284]]]\n"
     ]
    }
   ],
   "source": [
    "next = np.array([-912.54, -1254.1, 0.0])\n",
    "\n",
    "actual = np.array([-1078.2, -1255, 0.5])\n",
    "gt = np.array([-1079.2, -1254.1, 0.0])\n",
    "\n",
    "# Rotate to compensate d yaw\n",
    "error = gt - actual\n",
    "step = next - gt\n",
    "\n",
    "vector = np.array([[step[0]], \n",
    "                   [step[1]]])\n",
    "\n",
    "\n",
    "a = np.deg2rad(error[2])\n",
    "matrix = np.array([[np.cos(a), -np.sin(a)], \n",
    "                   [np.sin(a), np.cos(a)]])\n",
    "\n",
    "result = np.dot(matrix, vector)\n",
    "\n",
    "propagated = np.array([[step[0] + error[0]], [step[1] + error[1]], [0]])\n",
    "\n",
    "pwm = np.array([[255], [255]])\n",
    "rotated_pwm = np.dot(matrix, pwm)\n",
    "factor = np.max(rotated_pwm)/255\n",
    "rotated_pwm /= factor\n",
    "print(rotated_pwm)\n",
    "\n",
    "# Rotate to compensate d y\n",
    "rotated_error = np.dot(matrix.T, np.array([[error[0]], [error[1]]]))\n",
    "\n",
    "theta_1_rad = np.arctan(propagated[0] / propagated[1])\n",
    "theta_2_rad = np.pi/2 - theta_1_rad\n",
    "\n",
    "matrix2 = np.array([[np.cos(theta_2_rad), -np.sin(theta_2_rad)], \n",
    "                   [np.sin(theta_2_rad), np.cos(theta_2_rad)]])\n",
    "\n",
    "rotated_pwm = np.dot(matrix2.T, rotated_pwm)\n",
    "factor = np.max(rotated_pwm)/255\n",
    "rotated_pwm /= factor\n",
    "\n",
    "print(rotated_pwm)\n",
    "\n",
    "# Scale to compensate d x\n",
    "k = 1\n",
    "scale = k*((propagated[0] - step[0]) / propagated[0] + 1)\n",
    "rotated_pwm *= scale\n",
    "print(rotated_pwm)\n",
    "\n"
   ]
  },
  {
   "cell_type": "code",
   "execution_count": null,
   "metadata": {},
   "outputs": [],
   "source": []
  }
 ],
 "metadata": {
  "kernelspec": {
   "display_name": "Python 3",
   "language": "python",
   "name": "python3"
  },
  "language_info": {
   "codemirror_mode": {
    "name": "ipython",
    "version": 3
   },
   "file_extension": ".py",
   "mimetype": "text/x-python",
   "name": "python",
   "nbconvert_exporter": "python",
   "pygments_lexer": "ipython3",
   "version": "3.10.12"
  }
 },
 "nbformat": 4,
 "nbformat_minor": 2
}
